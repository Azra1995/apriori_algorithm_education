{
 "cells": [
  {
   "cell_type": "code",
   "execution_count": 1,
   "metadata": {},
   "outputs": [],
   "source": [
    "import pandas as pd\n",
    "import xlrd\n",
    "from mlxtend.preprocessing import TransactionEncoder\n",
    "import numpy as np\n",
    "from mlxtend.frequent_patterns import apriori\n",
    "from mlxtend.frequent_patterns import association_rules\n",
    "import plotly.express as px"
   ]
  },
  {
   "cell_type": "code",
   "execution_count": 2,
   "metadata": {},
   "outputs": [],
   "source": [
    "data = pd.read_excel ('set.xlsx', sheet_name='Sheet5', engine='openpyxl')"
   ]
  },
  {
   "cell_type": "code",
   "execution_count": 3,
   "metadata": {},
   "outputs": [
    {
     "data": {
      "text/html": [
       "<div>\n",
       "<style scoped>\n",
       "    .dataframe tbody tr th:only-of-type {\n",
       "        vertical-align: middle;\n",
       "    }\n",
       "\n",
       "    .dataframe tbody tr th {\n",
       "        vertical-align: top;\n",
       "    }\n",
       "\n",
       "    .dataframe thead th {\n",
       "        text-align: right;\n",
       "    }\n",
       "</style>\n",
       "<table border=\"1\" class=\"dataframe\">\n",
       "  <thead>\n",
       "    <tr style=\"text-align: right;\">\n",
       "      <th></th>\n",
       "      <th>InvoiceNo</th>\n",
       "      <th>Product</th>\n",
       "      <th>Quantity</th>\n",
       "      <th>Education</th>\n",
       "    </tr>\n",
       "  </thead>\n",
       "  <tbody>\n",
       "    <tr>\n",
       "      <th>0</th>\n",
       "      <td>1</td>\n",
       "      <td>Mlijeko</td>\n",
       "      <td>1</td>\n",
       "      <td>University</td>\n",
       "    </tr>\n",
       "    <tr>\n",
       "      <th>1</th>\n",
       "      <td>1</td>\n",
       "      <td>Voda</td>\n",
       "      <td>1</td>\n",
       "      <td>University</td>\n",
       "    </tr>\n",
       "    <tr>\n",
       "      <th>2</th>\n",
       "      <td>1</td>\n",
       "      <td>Sokovi</td>\n",
       "      <td>1</td>\n",
       "      <td>University</td>\n",
       "    </tr>\n",
       "    <tr>\n",
       "      <th>3</th>\n",
       "      <td>1</td>\n",
       "      <td>Kafa</td>\n",
       "      <td>1</td>\n",
       "      <td>University</td>\n",
       "    </tr>\n",
       "    <tr>\n",
       "      <th>4</th>\n",
       "      <td>1</td>\n",
       "      <td>Čokolade</td>\n",
       "      <td>1</td>\n",
       "      <td>University</td>\n",
       "    </tr>\n",
       "  </tbody>\n",
       "</table>\n",
       "</div>"
      ],
      "text/plain": [
       "   InvoiceNo   Product  Quantity   Education\n",
       "0          1   Mlijeko         1  University\n",
       "1          1      Voda         1  University\n",
       "2          1    Sokovi         1  University\n",
       "3          1      Kafa         1  University\n",
       "4          1  Čokolade         1  University"
      ]
     },
     "execution_count": 3,
     "metadata": {},
     "output_type": "execute_result"
    }
   ],
   "source": [
    "data.head()"
   ]
  },
  {
   "cell_type": "code",
   "execution_count": null,
   "metadata": {},
   "outputs": [],
   "source": []
  },
  {
   "cell_type": "code",
   "execution_count": 4,
   "metadata": {},
   "outputs": [
    {
     "data": {
      "text/plain": [
       "array(['Mlijeko', 'Voda', 'Sokovi', 'Kafa', 'Čokolade', 'Bombone', 'Keks',\n",
       "       'Vegeta', 'So', 'Supa', 'Brašno', 'Ulje', 'Tjestenina', 'Začini',\n",
       "       'Sir', 'Jogurt', 'Piletina', 'Teletina', 'Gljive', 'Jabuke',\n",
       "       'Kruške', 'Banane', 'Limun', 'Narandža', 'Čips', 'Kolači',\n",
       "       'Deterdžent', 'Omekšivač', 'Šampon', 'Regenerator', 'Sapun',\n",
       "       'Sredstvazačišćenje', 'Krompir', 'Luk', 'Kupus', 'Paradajz',\n",
       "       'Krastavac', 'Kiselasalata', 'Salata', 'Šećer', 'Nescafe',\n",
       "       'Alkoholnapića', 'Pastazazube', 'Toaletpapir', 'Riža', 'Kukuruz',\n",
       "       'Kreme', 'Smoki', 'Grisini', 'Kikiriki', 'Kokice', 'Žvake',\n",
       "       'Mineralnavoda', 'Ostalagaziranapića', 'Puding', 'Šlag',\n",
       "       'Vrhnjezakuhanje', 'Kockazakafu', 'Puder', 'Maskara', 'Labelo',\n",
       "       'Četkazakosu', 'Parfem', 'Lakzanokte', 'Lakzakosu', 'Aceton',\n",
       "       'Energetskapića', 'Lijekovi', 'Biljnipreparati', 'Čajevi', 'Jaja',\n",
       "       'Hljeb', 'Sjajzausne', 'Karmin', 'Korektor'], dtype=object)"
      ]
     },
     "execution_count": 4,
     "metadata": {},
     "output_type": "execute_result"
    }
   ],
   "source": [
    "data.Product.unique()"
   ]
  },
  {
   "cell_type": "code",
   "execution_count": 5,
   "metadata": {},
   "outputs": [
    {
     "data": {
      "text/plain": [
       "array(['University', 'HS'], dtype=object)"
      ]
     },
     "execution_count": 5,
     "metadata": {},
     "output_type": "execute_result"
    }
   ],
   "source": [
    "data.Education.unique()"
   ]
  },
  {
   "cell_type": "code",
   "execution_count": 6,
   "metadata": {},
   "outputs": [],
   "source": [
    "data['Product'] = data['Product'].str.strip()"
   ]
  },
  {
   "cell_type": "code",
   "execution_count": 7,
   "metadata": {},
   "outputs": [],
   "source": [
    "data.dropna(axis = 0, subset =['InvoiceNo'], inplace = True)\n",
    "data['InvoiceNo'] = data['InvoiceNo'].astype('str')"
   ]
  },
  {
   "cell_type": "code",
   "execution_count": 8,
   "metadata": {},
   "outputs": [],
   "source": [
    "# Buyings for High school level\n",
    "basket_HS = (data[data['Education'] ==\"HS\"]\n",
    "          .groupby(['InvoiceNo', 'Product'])['Quantity']\n",
    "          .sum().unstack().reset_index().fillna(0)\n",
    "          .set_index('InvoiceNo'))"
   ]
  },
  {
   "cell_type": "code",
   "execution_count": 9,
   "metadata": {},
   "outputs": [],
   "source": [
    "# Buyings for University level\n",
    "basket_University = (data[data['Education'] ==\"University\"]\n",
    "          .groupby(['InvoiceNo', 'Product'])['Quantity']\n",
    "          .sum().unstack().reset_index().fillna(0)\n",
    "          .set_index('InvoiceNo'))"
   ]
  },
  {
   "cell_type": "code",
   "execution_count": null,
   "metadata": {},
   "outputs": [],
   "source": []
  },
  {
   "cell_type": "code",
   "execution_count": 10,
   "metadata": {},
   "outputs": [],
   "source": [
    "# Defining the hot encoding function to make the data suitable\n",
    "# for the concerned libraries\n",
    "def hot_encode(x):\n",
    "    if(x<= 0):\n",
    "        return 0\n",
    "    if(x>= 1):\n",
    "        return 1\n",
    " \n",
    "# Encoding the datasets\n",
    "basket_encoded = basket_HS.applymap(hot_encode)\n",
    "basket_HS = basket_encoded\n",
    " \n",
    "basket_encoded = basket_University.applymap(hot_encode)\n",
    "basket_University = basket_encoded\n",
    " \n",
    "\n"
   ]
  },
  {
   "cell_type": "code",
   "execution_count": 12,
   "metadata": {},
   "outputs": [
    {
     "name": "stdout",
     "output_type": "stream",
     "text": [
      "               antecedents consequents  antecedent support  \\\n",
      "73        (Kafa, Piletina)   (Mlijeko)            0.581395   \n",
      "2                 (Brašno)      (Ulje)            0.558140   \n",
      "92  (Piletina, Tjestenina)   (Mlijeko)            0.558140   \n",
      "96         (Mlijeko, Ulje)  (Piletina)            0.534884   \n",
      "98        (Ulje, Piletina)   (Mlijeko)            0.534884   \n",
      "\n",
      "    consequent support   support  confidence      lift  leverage  conviction  \n",
      "73            0.813953  0.558140    0.960000  1.179429  0.084911    4.651163  \n",
      "2             0.581395  0.534884    0.958333  1.648333  0.210384   10.046512  \n",
      "92            0.813953  0.534884    0.958333  1.177381  0.080584    4.465116  \n",
      "96            0.697674  0.511628    0.956522  1.371014  0.138453    6.953488  \n",
      "98            0.813953  0.511628    0.956522  1.175155  0.076257    4.279070  \n"
     ]
    }
   ],
   "source": [
    "# Building the model for HS\n",
    "frq_items = apriori(basket_HS, min_support = 0.5, use_colnames = True)\n",
    " \n",
    "# Collecting the inferred rules in a dataframe\n",
    "rules = association_rules(frq_items, metric =\"lift\", min_threshold = 1)\n",
    "rules = rules.sort_values(['confidence', 'lift'], ascending =[False, False])\n",
    "print(rules.head())"
   ]
  },
  {
   "cell_type": "code",
   "execution_count": 15,
   "metadata": {},
   "outputs": [
    {
     "name": "stdout",
     "output_type": "stream",
     "text": [
      "   antecedents consequents  antecedent support  consequent support  support  \\\n",
      "0     (Brašno)      (Ulje)            0.517241            0.551724      0.5   \n",
      "1       (Ulje)    (Brašno)            0.551724            0.517241      0.5   \n",
      "17      (Ulje)   (Mlijeko)            0.551724            0.689655      0.5   \n",
      "18    (Šampon)  (Piletina)            0.568966            0.689655      0.5   \n",
      "11      (Riža)      (Kafa)            0.586207            0.758621      0.5   \n",
      "\n",
      "    confidence      lift  leverage  conviction  \n",
      "0     0.966667  1.752083  0.214625   13.448276  \n",
      "1     0.906250  1.752083  0.214625    5.149425  \n",
      "17    0.906250  1.314062  0.119501    3.310345  \n",
      "18    0.878788  1.274242  0.107610    2.560345  \n",
      "11    0.852941  1.124332  0.055291    1.641379  \n"
     ]
    }
   ],
   "source": [
    "# Building the model for University\n",
    "frq_items = apriori(basket_University, min_support = 0.5, use_colnames = True)\n",
    " \n",
    "# Collecting the inferred rules in a dataframe\n",
    "rules = association_rules(frq_items, metric =\"lift\", min_threshold = 1)\n",
    "rules = rules.sort_values(['confidence', 'lift'], ascending =[False, False])\n",
    "print(rules.head())"
   ]
  },
  {
   "cell_type": "code",
   "execution_count": null,
   "metadata": {},
   "outputs": [],
   "source": []
  },
  {
   "cell_type": "code",
   "execution_count": null,
   "metadata": {},
   "outputs": [],
   "source": [
    "# Buyings for Bachelor level\n",
    "basket_Bachelor = (data[data['Education'] ==\"Bachelor\"]\n",
    "          .groupby(['InvoiceNo', 'Product'])['Quantity']\n",
    "          .sum().unstack().reset_index().fillna(0)\n",
    "          .set_index('InvoiceNo'))\n",
    "\n",
    "\n",
    "# Buyings for Master level\n",
    "basket_Master = (data[data['Education'] ==\"Master\"]\n",
    "          .groupby(['InvoiceNo', 'Product'])['Quantity']\n",
    "          .sum().unstack().reset_index().fillna(0)\n",
    "          .set_index('InvoiceNo'))\n",
    "\n",
    "\n",
    "basket_encoded = basket_Bachelor.applymap(hot_encode)\n",
    "basket_Bachelor = basket_encoded\n",
    " \n",
    "basket_encoded = basket_Master.applymap(hot_encode)\n",
    "basket_Master = basket_encoded\n",
    "\n",
    "\n",
    "# Building the model for Master\n",
    "frq_items = apriori(basket_Master, min_support = 0.6, use_colnames = True)\n",
    " \n",
    "# Collecting the inferred rules in a dataframe\n",
    "rules = association_rules(frq_items, metric =\"lift\", min_threshold = 1)\n",
    "rules = rules.sort_values(['confidence', 'lift'], ascending =[False, False])\n",
    "print(rules.head())\n"
   ]
  }
 ],
 "metadata": {
  "kernelspec": {
   "display_name": "Python 3",
   "language": "python",
   "name": "python3"
  },
  "language_info": {
   "codemirror_mode": {
    "name": "ipython",
    "version": 3
   },
   "file_extension": ".py",
   "mimetype": "text/x-python",
   "name": "python",
   "nbconvert_exporter": "python",
   "pygments_lexer": "ipython3",
   "version": "3.9.0"
  }
 },
 "nbformat": 4,
 "nbformat_minor": 4
}
